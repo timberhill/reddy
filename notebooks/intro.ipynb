{
 "cells": [
  {
   "cell_type": "markdown",
   "metadata": {},
   "source": [
    "# REDDY"
   ]
  },
  {
   "cell_type": "markdown",
   "metadata": {},
   "source": [
    "Analysis of reddit posting activity.\n",
    "\n",
    "The notebooks below use [Pushshift API](https://github.com/pushshift/api) to retrieve posts from any date range and [Reddit API](https://www.reddit.com/wiki/api) to retrieve up-to-date information about the posts.\n",
    "\n",
    "The limit per request is 100 posts, so for popular subreddits or long periods this may take a while. All posts are, however, saved, so you only need to do this once (unless you need to update information about the latest posts).\n",
    "\n",
    "## [Submission frequency](submission_frequency.ipynb#top)\n",
    "\n",
    "Analysis of a subreddit submission frequency before and after nationa lockdowns. Some subreddits, like, e.g. r/skyrim got a lot more popular. Others got less popular. Go to the notebook linked in the title to analyse any subreddit."
   ]
  }
 ],
 "metadata": {
  "kernelspec": {
   "display_name": "Python 3.8.2 64-bit",
   "language": "python",
   "name": "python38264bit3eaba770234d46748b1bfd09ade95b4c"
  },
  "language_info": {
   "codemirror_mode": {
    "name": "ipython",
    "version": 3
   },
   "file_extension": ".py",
   "mimetype": "text/x-python",
   "name": "python",
   "nbconvert_exporter": "python",
   "pygments_lexer": "ipython3",
   "version": "3.8.2-final"
  }
 },
 "nbformat": 4,
 "nbformat_minor": 4
}