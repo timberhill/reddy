{
 "cells": [
  {
   "cell_type": "markdown",
   "metadata": {},
   "source": [
    "# REDDY"
   ]
  },
  {
   "cell_type": "markdown",
   "metadata": {},
   "source": [
    "Load modules and initialize objects"
   ]
  },
  {
   "cell_type": "code",
   "execution_count": 1,
   "metadata": {},
   "outputs": [],
   "source": [
    "from datetime import datetime, timedelta\n",
    "from progressbar import ProgressBar, SimpleProgress, ETA\n",
    "from modules.reddit_api import RedditAPI\n",
    "from modules.cache_handler import Cache\n",
    "from credentials import client_id, secret\n",
    "\n",
    "api   = RedditAPI()\n",
    "cache = Cache(verbose=False)\n",
    "\n",
    "api.authenticate(client_id, secret)\n",
    "\n",
    "# name of the subreddit to analyse\n",
    "subreddit_name = \"datascience\""
   ]
  },
  {
   "cell_type": "markdown",
   "metadata": {},
   "source": [
    "Download the posts and index them"
   ]
  },
  {
   "cell_type": "code",
   "execution_count": 2,
   "metadata": {
    "tags": [
     "outputPrepend",
     "outputPrepend",
     "outputPrepend",
     "outputPrepend",
     "outputPrepend",
     "outputPrepend",
     "outputPrepend",
     "outputPrepend",
     "outputPrepend"
    ]
   },
   "outputs": [
    {
     "output_type": "stream",
     "name": "stderr",
     "text": "0 of 10, ETA:  --:--:--\n1 of 10, ETA:  0:00:09\n2 of 10, ETA:  0:00:08\n3 of 10, ETA:  0:00:07\n4 of 10, ETA:  0:00:07\n5 of 10, ETA:  0:00:05\n6 of 10, ETA:  0:00:04\n7 of 10, ETA:  0:00:03\n8 of 10, ETA:  0:00:02\n9 of 10, ETA:  0:00:01\n10 of 10, Time: 0:00:12\n\n"
    }
   ],
   "source": [
    "after = None\n",
    "count = 0\n",
    "pbar = ProgressBar(widgets=[SimpleProgress(), ', ', ETA(), \"\\n\"])\n",
    "iterations = pbar(range(10))\n",
    "\n",
    "for i in iterations:\n",
    "    posts, before, after = api.new_posts(subreddit_name, limit=100, after=after, count=count)\n",
    "    count += len(posts)\n",
    "    cache.add(posts, overwrite=False)\n",
    "\n",
    "cache.update_all_indices()"
   ]
  },
  {
   "cell_type": "code",
   "execution_count": 4,
   "metadata": {},
   "outputs": [
    {
     "output_type": "stream",
     "name": "stdout",
     "text": "post_id       created   created_utc   ups  downs view_count\n26   gjio4i  1.589476e+09  1.589447e+09   1.0    0.0       None\n45   gjd820  1.589451e+09  1.589422e+09  75.0    0.0       None\n71   gjk954  1.589483e+09  1.589454e+09   1.0    0.0       None\n517  gj3i6j  1.589420e+09  1.589391e+09   2.0    0.0       None\n639  gjj7rx  1.589478e+09  1.589449e+09   3.0    0.0       None\n641  gjkajt  1.589483e+09  1.589455e+09   1.0    0.0       None\n694  gjkyy3  1.589486e+09  1.589458e+09   1.0    0.0       None\n718  giz5ve  1.589406e+09  1.589377e+09   4.0    0.0       None\n789  gjhhe2  1.589470e+09  1.589441e+09   1.0    0.0       None\n850  gjl45g  1.589487e+09  1.589458e+09   1.0    0.0       None\n918  gj4687  1.589422e+09  1.589393e+09   3.0    0.0       None\n963  gjl0sf  1.589487e+09  1.589458e+09   1.0    0.0       None\n"
    }
   ],
   "source": [
    "lastposts = cache.select(subreddit_name, t=(datetime.utcnow()-timedelta(days=1), datetime.utcnow()))\n",
    "\n",
    "print(lastposts)"
   ]
  },
  {
   "cell_type": "code",
   "execution_count": null,
   "metadata": {},
   "outputs": [],
   "source": []
  }
 ],
 "metadata": {
  "kernelspec": {
   "display_name": "Python 3.7.4 64-bit ('base': conda)",
   "language": "python",
   "name": "python37464bitbaseconda95b37afbb2cc4099b1b4a29eef428682"
  },
  "language_info": {
   "codemirror_mode": {
    "name": "ipython",
    "version": 3
   },
   "file_extension": ".py",
   "mimetype": "text/x-python",
   "name": "python",
   "nbconvert_exporter": "python",
   "pygments_lexer": "ipython3",
   "version": "3.7.4-final"
  }
 },
 "nbformat": 4,
 "nbformat_minor": 4
}